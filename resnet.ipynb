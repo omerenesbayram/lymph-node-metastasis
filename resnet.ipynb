{
  "cells": [
    {
      "cell_type": "code",
      "execution_count": 1,
      "metadata": {
        "colab": {
          "base_uri": "https://localhost:8080/"
        },
        "id": "9oPQfQAt90sE",
        "outputId": "91dc7d0a-8c57-4320-a67b-de9c499ef2c1"
      },
      "outputs": [
        {
          "name": "stdout",
          "output_type": "stream",
          "text": [
            "Requirement already satisfied: pydicom in /usr/local/lib/python3.7/dist-packages (2.2.2)\n",
            "Requirement already satisfied: pylibjpeg[all] in /usr/local/lib/python3.7/dist-packages (1.4.0)\n",
            "Requirement already satisfied: numpy in /usr/local/lib/python3.7/dist-packages (from pylibjpeg[all]) (1.21.5)\n",
            "Requirement already satisfied: pylibjpeg-openjpeg in /usr/local/lib/python3.7/dist-packages (from pylibjpeg[all]) (1.2.1)\n",
            "Requirement already satisfied: pylibjpeg-rle in /usr/local/lib/python3.7/dist-packages (from pylibjpeg[all]) (1.3.0)\n",
            "Requirement already satisfied: pylibjpeg-libjpeg in /usr/local/lib/python3.7/dist-packages (from pylibjpeg[all]) (1.3.1)\n"
          ]
        }
      ],
      "source": [
        "!pip install pydicom \n",
        "!pip install pylibjpeg[all]"
      ]
    },
    {
      "cell_type": "code",
      "execution_count": 2,
      "metadata": {
        "colab": {
          "base_uri": "https://localhost:8080/"
        },
        "id": "nvkYvzFERdnu",
        "outputId": "62d85e41-f13d-4ba2-9385-00c096510756"
      },
      "outputs": [
        {
          "name": "stdout",
          "output_type": "stream",
          "text": [
            "Drive already mounted at /content/drive; to attempt to forcibly remount, call drive.mount(\"/content/drive\", force_remount=True).\n"
          ]
        }
      ],
      "source": [
        "from google.colab import drive\n",
        "drive.mount('/content/drive')"
      ]
    },
    {
      "cell_type": "code",
      "execution_count": 2,
      "metadata": {
        "id": "uK_aDehWRVC3"
      },
      "outputs": [],
      "source": [
        "import numpy as np\n",
        "\n",
        "from sklearn.model_selection import train_test_split as tts\n",
        "from tensorflow.keras.optimizers import Adam\n",
        "\n",
        "import config\n",
        "from model import resnet\n",
        "from data_generator.data_generator import DataGenerator\n",
        "from data_generator.helper import excel"
      ]
    },
    {
      "cell_type": "code",
      "execution_count": 9,
      "metadata": {
        "id": "JRv9sa91RVC6"
      },
      "outputs": [],
      "source": [
        "pos, neg = excel.get_names(config.PATIENT_LIST_PATH)"
      ]
    },
    {
      "cell_type": "code",
      "execution_count": 10,
      "metadata": {
        "id": "j0WhY1dHRVC7"
      },
      "outputs": [],
      "source": [
        "neg = neg[:len(pos)]"
      ]
    },
    {
      "cell_type": "code",
      "execution_count": 11,
      "metadata": {
        "id": "xkGJoEEjRVC8"
      },
      "outputs": [],
      "source": [
        "train_names_pos, val_names_pos = tts(pos, test_size=0.2, random_state=42)\n",
        "train_names_neg, val_names_neg = tts(neg, test_size=0.2, random_state=42)"
      ]
    },
    {
      "cell_type": "code",
      "execution_count": 12,
      "metadata": {
        "id": "BlX5l-8ERVC-"
      },
      "outputs": [],
      "source": [
        "train_names = np.asarray(train_names_pos + train_names_neg)\n",
        "np.random.shuffle(train_names)\n",
        "val_names = np.asarray(val_names_pos + val_names_neg)\n",
        "np.random.shuffle(val_names)"
      ]
    },
    {
      "cell_type": "code",
      "execution_count": 19,
      "metadata": {
        "id": "9Pkf-lJOACyZ"
      },
      "outputs": [],
      "source": [
        "train_gen = DataGenerator(train_names, \"train\", config.PATIENT_LIST_PATH, batch_size=4)\n",
        "val_gen = DataGenerator(val_names, \"train\", config.PATIENT_LIST_PATH, batch_size=4)"
      ]
    },
    {
      "cell_type": "code",
      "execution_count": 3,
      "metadata": {
        "id": "daQMgqgLRVDJ"
      },
      "outputs": [],
      "source": [
        "model = resnet.build_resnet_18(input_shape=(100, 100, 100, 1), num_outputs=2, reg_factor=1e-4)\n",
        "model.compile(loss=\"categorical_crossentropy\", optimizer=Adam(learning_rate=0.0001),metrics=['accuracy'])"
      ]
    },
    {
      "cell_type": "code",
      "execution_count": 21,
      "metadata": {
        "id": "IKsgTebhRVDJ"
      },
      "outputs": [],
      "source": [
        "from keras.callbacks import TensorBoard\n",
        "tensorboard = TensorBoard(log_dir=config.LOG_PATH)"
      ]
    },
    {
      "cell_type": "code",
      "execution_count": null,
      "metadata": {
        "colab": {
          "base_uri": "https://localhost:8080/"
        },
        "id": "9xdE0FpLRVDK",
        "outputId": "fdb71272-8114-47a8-86ff-5a8a56d05c5b"
      },
      "outputs": [
        {
          "name": "stdout",
          "output_type": "stream",
          "text": [
            "Epoch 1/50\n",
            "12/12 - 652s - loss: 1.0031 - accuracy: 0.9583 - val_loss: 51.7287 - val_accuracy: 0.5000 - 652s/epoch - 54s/step\n",
            "Epoch 2/50\n",
            "12/12 - 572s - loss: 0.9475 - accuracy: 1.0000 - val_loss: 18.6511 - val_accuracy: 0.5000 - 572s/epoch - 48s/step\n",
            "Epoch 3/50\n",
            "12/12 - 629s - loss: 0.9333 - accuracy: 1.0000 - val_loss: 5.8881 - val_accuracy: 0.5000 - 629s/epoch - 52s/step\n",
            "Epoch 4/50\n",
            "12/12 - 567s - loss: 0.9173 - accuracy: 1.0000 - val_loss: 1.7421 - val_accuracy: 0.6667 - 567s/epoch - 47s/step\n",
            "Epoch 5/50\n",
            "12/12 - 572s - loss: 0.9005 - accuracy: 1.0000 - val_loss: 0.9413 - val_accuracy: 1.0000 - 572s/epoch - 48s/step\n",
            "Epoch 6/50\n",
            "12/12 - 626s - loss: 0.8833 - accuracy: 1.0000 - val_loss: 0.8795 - val_accuracy: 1.0000 - 626s/epoch - 52s/step\n",
            "Epoch 7/50\n",
            "12/12 - 617s - loss: 0.8660 - accuracy: 1.0000 - val_loss: 0.8582 - val_accuracy: 1.0000 - 617s/epoch - 51s/step\n",
            "Epoch 8/50\n",
            "12/12 - 625s - loss: 0.8487 - accuracy: 1.0000 - val_loss: 0.8401 - val_accuracy: 1.0000 - 625s/epoch - 52s/step\n",
            "Epoch 9/50\n",
            "12/12 - 567s - loss: 0.8316 - accuracy: 1.0000 - val_loss: 0.8228 - val_accuracy: 1.0000 - 567s/epoch - 47s/step\n",
            "Epoch 10/50\n"
          ]
        }
      ],
      "source": [
        "model.fit(train_gen, batch_size=4, epochs=50, validation_data=val_gen, callbacks = [tensorboard], verbose=2)"
      ]
    },
    {
      "cell_type": "code",
      "execution_count": null,
      "metadata": {
        "id": "yk2l_Ia1Qts7"
      },
      "outputs": [],
      "source": [
        "model.save(config.MODEL_PATH)"
      ]
    }
  ],
  "metadata": {
    "colab": {
      "collapsed_sections": [],
      "name": "resnet.ipynb",
      "provenance": []
    },
    "interpreter": {
      "hash": "3b09108e514517bd5e4a6e228723cfb42d49fc72c35aeaac957cf3be0497138a"
    },
    "kernelspec": {
      "display_name": "Python 3.8.11 64-bit ('py38': conda)",
      "name": "python3"
    },
    "language_info": {
      "codemirror_mode": {
        "name": "ipython",
        "version": 3
      },
      "file_extension": ".py",
      "mimetype": "text/x-python",
      "name": "python",
      "nbconvert_exporter": "python",
      "pygments_lexer": "ipython3",
      "version": "3.9.10"
    }
  },
  "nbformat": 4,
  "nbformat_minor": 0
}
