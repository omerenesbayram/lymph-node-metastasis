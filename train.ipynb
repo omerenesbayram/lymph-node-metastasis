{
  "cells": [
    {
      "cell_type": "code",
      "execution_count": null,
      "metadata": {},
      "outputs": [],
      "source": [
        "BATCH_SIZE = 4\n",
        "EPOCH_COUNT = 10\n",
        "VALIDATION_RATIO = 0.2\n",
        "REGULARIZATION_RATE = 0.0001\n",
        "LEARNING_RATE = 0.0001\n",
        "\n",
        "IMAGE_SAMPLE_SIZE = (100, 100, 100, 1)"
      ]
    },
    {
      "cell_type": "code",
      "execution_count": null,
      "metadata": {},
      "outputs": [],
      "source": [
        "DATA_PATH = \"/content/drive/My Drive/Medical Research/Data_Tümü/\"\n",
        "PATIENT_LIST_PATH = \"/content/drive/My Drive/Medical Research/Hasta_Listesi.xlsx\"\n",
        "LOG_PATH = \"/content/drive/My Drive/Medical Research/logs\"\n",
        "MODEL_PATH = \"/content/drive/My Drive/Medical Research/models\""
      ]
    },
    {
      "cell_type": "code",
      "execution_count": null,
      "metadata": {
        "colab": {
          "base_uri": "https://localhost:8080/"
        },
        "id": "9oPQfQAt90sE",
        "outputId": "56253ea5-238e-44ea-bfb3-9f1fa9a0889e"
      },
      "outputs": [],
      "source": [
        "!pip install pydicom \n",
        "!pip install pylibjpeg[all]"
      ]
    },
    {
      "cell_type": "code",
      "execution_count": null,
      "metadata": {
        "colab": {
          "base_uri": "https://localhost:8080/"
        },
        "id": "SSVT6bVDY7yh",
        "outputId": "32eadc5d-5341-4e7a-a123-d5a304bc13df"
      },
      "outputs": [],
      "source": [
        "!git clone https://github.com/omerenesbayram/lymph-node-metastasis.git"
      ]
    },
    {
      "cell_type": "code",
      "execution_count": null,
      "metadata": {
        "colab": {
          "base_uri": "https://localhost:8080/"
        },
        "id": "bY9fszZnaM_M",
        "outputId": "9efde807-972d-4eae-a49f-db55bba42953"
      },
      "outputs": [],
      "source": [
        "%cd lymph-node-metastasis/\n",
        "!git checkout initialization"
      ]
    },
    {
      "cell_type": "code",
      "execution_count": null,
      "metadata": {
        "colab": {
          "base_uri": "https://localhost:8080/"
        },
        "id": "nvkYvzFERdnu",
        "outputId": "f006ef14-9225-4000-f842-5a089caea455"
      },
      "outputs": [],
      "source": [
        "from google.colab import drive\n",
        "drive.mount('/content/drive')"
      ]
    },
    {
      "cell_type": "code",
      "execution_count": null,
      "metadata": {
        "id": "uK_aDehWRVC3"
      },
      "outputs": [],
      "source": [
        "import numpy as np\n",
        "\n",
        "from sklearn.model_selection import train_test_split as tts\n",
        "from tensorflow.keras.optimizers import Adam\n",
        "from tensorflow.keras import metrics\n",
        "\n",
        "from model import resnet\n",
        "from data_generator.data_generator import DataGenerator\n",
        "from data_generator.helper import excel"
      ]
    },
    {
      "cell_type": "code",
      "execution_count": null,
      "metadata": {
        "id": "JRv9sa91RVC6"
      },
      "outputs": [],
      "source": [
        "pos, neg = excel.get_names(PATIENT_LIST_PATH)"
      ]
    },
    {
      "cell_type": "code",
      "execution_count": null,
      "metadata": {
        "id": "j0WhY1dHRVC7"
      },
      "outputs": [],
      "source": [
        "neg = neg[:len(pos)]"
      ]
    },
    {
      "cell_type": "code",
      "execution_count": null,
      "metadata": {
        "id": "xkGJoEEjRVC8"
      },
      "outputs": [],
      "source": [
        "train_names_pos, val_names_pos = tts(pos, test_size=VALIDATION_RATIO, random_state=42)\n",
        "train_names_neg, val_names_neg = tts(neg, test_size=VALIDATION_RATIO, random_state=42)"
      ]
    },
    {
      "cell_type": "code",
      "execution_count": null,
      "metadata": {
        "id": "BlX5l-8ERVC-"
      },
      "outputs": [],
      "source": [
        "train_names = np.asarray(train_names_pos + train_names_neg)\n",
        "np.random.shuffle(train_names)\n",
        "val_names = np.asarray(val_names_pos + val_names_neg)\n",
        "np.random.shuffle(val_names)"
      ]
    },
    {
      "cell_type": "code",
      "execution_count": null,
      "metadata": {
        "colab": {
          "base_uri": "https://localhost:8080/"
        },
        "id": "TZ6poQy-axZh",
        "outputId": "9d0ad17f-86ff-4691-d6cc-dd5706f4c655"
      },
      "outputs": [],
      "source": [
        "print(f'Number of Patients for Training: {len(train_names)}')\n",
        "print(f'Number of Patients for Validation: {len(val_names)}')"
      ]
    },
    {
      "cell_type": "code",
      "execution_count": null,
      "metadata": {
        "id": "9Pkf-lJOACyZ"
      },
      "outputs": [],
      "source": [
        "train_gen = DataGenerator(train_names, \"train\", PATIENT_LIST_PATH, DATA_PATH, LOG_PATH, batch_size=BATCH_SIZE)\n",
        "val_gen = DataGenerator(val_names, \"train\", PATIENT_LIST_PATH, DATA_PATH, LOG_PATH, batch_size=BATCH_SIZE)"
      ]
    },
    {
      "cell_type": "code",
      "execution_count": null,
      "metadata": {
        "id": "daQMgqgLRVDJ"
      },
      "outputs": [],
      "source": [
        "model = resnet.build_resnet_18(input_shape=IMAGE_SAMPLE_SIZE, num_outputs=2, reg_factor=REGULARIZATION_RATE)\n",
        "metrics = [\n",
        "    metrics.Accuracy, metrics.Precision, metrics.Recall, \n",
        "    metrics.TruePositives, metrics.FalsePositives, metrics.TrueNegatives, metrics.FalseNegatives\n",
        "]\n",
        "model.compile(loss=\"categorical_crossentropy\", optimizer=Adam(learning_rate=LEARNING_RATE), metrics=metrics)"
      ]
    },
    {
      "cell_type": "code",
      "execution_count": null,
      "metadata": {
        "id": "IKsgTebhRVDJ"
      },
      "outputs": [],
      "source": [
        "from keras.callbacks import TensorBoard\n",
        "tensorboard = TensorBoard(log_dir=LOG_PATH)"
      ]
    },
    {
      "cell_type": "code",
      "execution_count": null,
      "metadata": {
        "colab": {
          "base_uri": "https://localhost:8080/",
          "height": 328
        },
        "id": "9xdE0FpLRVDK",
        "outputId": "2da7de9e-5c26-473b-ef3c-1717ac129da0"
      },
      "outputs": [],
      "source": [
        "model.fit(train_gen, batch_size=BATCH_SIZE, epochs=EPOCH_COUNT, validation_data=val_gen, callbacks = [tensorboard], verbose=2)"
      ]
    },
    {
      "cell_type": "code",
      "execution_count": null,
      "metadata": {
        "id": "yk2l_Ia1Qts7"
      },
      "outputs": [],
      "source": [
        "model.save(MODEL_PATH)"
      ]
    }
  ],
  "metadata": {
    "colab": {
      "collapsed_sections": [],
      "name": "resnet.ipynb",
      "provenance": []
    },
    "interpreter": {
      "hash": "3b09108e514517bd5e4a6e228723cfb42d49fc72c35aeaac957cf3be0497138a"
    },
    "kernelspec": {
      "display_name": "Python 3.8.11 64-bit ('py38': conda)",
      "name": "python3"
    },
    "language_info": {
      "codemirror_mode": {
        "name": "ipython",
        "version": 3
      },
      "file_extension": ".py",
      "mimetype": "text/x-python",
      "name": "python",
      "nbconvert_exporter": "python",
      "pygments_lexer": "ipython3",
      "version": "3.9.10"
    }
  },
  "nbformat": 4,
  "nbformat_minor": 0
}
